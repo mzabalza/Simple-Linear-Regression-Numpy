{
 "cells": [
  {
   "cell_type": "code",
   "execution_count": 38,
   "metadata": {},
   "outputs": [],
   "source": [
    "# Linear regression -> Fitting y = wx + b to observed data"
   ]
  },
  {
   "cell_type": "code",
   "execution_count": 39,
   "metadata": {},
   "outputs": [],
   "source": [
    "import numpy as np\n",
    "import matplotlib.pyplot as plt\n",
    "%matplotlib inline"
   ]
  },
  {
   "cell_type": "code",
   "execution_count": 40,
   "metadata": {},
   "outputs": [
    {
     "name": "stdout",
     "output_type": "stream",
     "text": [
      "(100, 1)\n",
      "(100, 1)\n"
     ]
    }
   ],
   "source": [
    "# generate some data\n",
    "# np.linspace returns evely spaced numbers over a specified interval\n",
    "# Newaxis is used to increase the dimension of the existing array by one more \n",
    "data_x = np.linspace(1.0, 10.0, 100)[:, np.newaxis]\n",
    "print(data_x.shape)\n",
    "# data.linspace.shape = (x,) data_x.shape = (x, 1)\n",
    "data_y = np.sin(data_x) + 0.1*np.power(data_x,2) + 0.5*np.random.randn(100,1)\n",
    "# normalization = helps in keeping the algorithm numerically stable\n",
    "data_x /= np.max(data_x)\n",
    "print(data_x.shape)"
   ]
  },
  {
   "cell_type": "code",
   "execution_count": 41,
   "metadata": {},
   "outputs": [
    {
     "data": {
      "text/plain": [
       "<matplotlib.collections.PathCollection at 0x110f9a908>"
      ]
     },
     "execution_count": 41,
     "metadata": {},
     "output_type": "execute_result"
    },
    {
     "data": {
      "image/png": "[encoded data removed]",
      "text/plain": [
       "<Figure size 432x288 with 1 Axes>"
      ]
     },
     "metadata": {
      "needs_background": "light"
     },
     "output_type": "display_data"
    }
   ],
   "source": [
    "plt.scatter(data_x, data_y)"
   ]
  },
  {
   "cell_type": "code",
   "execution_count": 42,
   "metadata": {},
   "outputs": [
    {
     "name": "stdout",
     "output_type": "stream",
     "text": [
      "(100, 1)\n"
     ]
    },
    {
     "data": {
      "text/plain": [
       "(100, 2)"
      ]
     },
     "execution_count": 42,
     "metadata": {},
     "output_type": "execute_result"
    }
   ],
   "source": [
    "# TRICK including the intercept in the input values, this way we dont have to carry \n",
    "#the bias (b) term through the calculation, that’s done by adding a column of \n",
    "#ones to the data, this way our model becomes simply y=wTx.\n",
    "\n",
    "# Stack arrasy in sequence horizontally (column wise)\n",
    "# Return an array of ones with the same shape and type as a given array.\n",
    "print(data_x.shape)\n",
    "data_x = np.hstack((np.ones_like(data_x), data_x))\n",
    "data_x.shape\n"
   ]
  },
  {
   "cell_type": "code",
   "execution_count": 43,
   "metadata": {},
   "outputs": [],
   "source": [
    "m = len(data_x)"
   ]
  },
  {
   "cell_type": "code",
   "execution_count": 44,
   "metadata": {},
   "outputs": [
    {
     "name": "stdout",
     "output_type": "stream",
     "text": [
      "(80, 2)\n",
      "(80, 1)\n"
     ]
    }
   ],
   "source": [
    "# We now shuffle and segment our data in training and test sets\n",
    "order = np.random.permutation(len(data_x))\n",
    "portion = 20\n",
    "test_x = data_x[order[:portion]]\n",
    "test_y = data_y[order[:portion]]\n",
    "train_x = data_x[order[portion:]]\n",
    "train_y = data_y[order[portion:]]\n",
    "print(train_x.shape)\n",
    "print(train_y.shape)\n"
   ]
  },
  {
   "cell_type": "code",
   "execution_count": 45,
   "metadata": {},
   "outputs": [],
   "source": [
    "def get_gradient(w, x, y):\n",
    "    # .dot product of two arrays\n",
    "    # Return a copy of the array collapsed into one dimension.\n",
    "    y_estimate = x.dot(w).flatten()\n",
    "    error = (y.flatten() - y_estimate)\n",
    "    gradient = -(1.0/len(x)) * error.dot(x)\n",
    "    return gradient, (np.sum((error)**2)) / m"
   ]
  },
  {
   "cell_type": "code",
   "execution_count": 46,
   "metadata": {},
   "outputs": [
    {
     "name": "stdout",
     "output_type": "stream",
     "text": [
      "<class 'int'>\n",
      "Iteration: 100 - Error: 2.535954\n",
      "Iteration: 200 - Error: 1.655978\n",
      "Iteration: 300 - Error: 1.352408\n",
      "Iteration: 400 - Error: 1.247684\n",
      "Iteration: 500 - Error: 1.211557\n",
      "Iteration: 600 - Error: 1.199094\n",
      "Iteration: 700 - Error: 1.194794\n",
      "Iteration: 800 - Error: 1.193311\n",
      "Iteration: 900 - Error: 1.192800\n",
      "Iteration: 1000 - Error: 1.192623\n",
      "Iteration: 1100 - Error: 1.192562\n",
      "Iteration: 1200 - Error: 1.192541\n",
      "Iteration: 1300 - Error: 1.192534\n",
      "Iteration: 1400 - Error: 1.192531\n",
      "Iteration: 1500 - Error: 1.192531\n",
      "Iteration: 1600 - Error: 1.192530\n",
      "Converged.\n"
     ]
    }
   ],
   "source": [
    "w = np.random.randn(2)\n",
    "alpha = 0.1\n",
    "tolerance = 1e-5\n",
    "\n",
    "# Perform Gradient Descent\n",
    "iterations = 1\n",
    "print(type(iterations))\n",
    "while True:\n",
    "    gradient, error = get_gradient(w, train_x, train_y)\n",
    "    new_w = w - alpha * gradient\n",
    "    \n",
    "    # Stopping Condition\n",
    "    if np.sum(abs(new_w - w)) < tolerance:\n",
    "        print (\"Converged.\")\n",
    "        break\n",
    "    \n",
    "    # Print error every 50 iterations\n",
    "    if iterations % 100 == 0:\n",
    "        print (\"Iteration: %d - Error: %f\" %(iterations,error))\n",
    "    iterations += 1\n",
    "    w = new_w"
   ]
  },
  {
   "cell_type": "code",
   "execution_count": 47,
   "metadata": {},
   "outputs": [
    {
     "name": "stdout",
     "output_type": "stream",
     "text": [
      "[-2.02348082 10.83455707]\n",
      "(80, 2)\n",
      "(80, 1)\n"
     ]
    }
   ],
   "source": [
    "print(w)\n",
    "print(train_x.shape)\n",
    "print(train_y.shape)\n",
    "w = [-2.3436,11.2450]"
   ]
  },
  {
   "cell_type": "code",
   "execution_count": 48,
   "metadata": {},
   "outputs": [
    {
     "data": {
      "image/png": "[encoded data removed]",
      "text/plain": [
       "<Figure size 432x288 with 1 Axes>"
      ]
     },
     "metadata": {
      "needs_background": "light"
     },
     "output_type": "display_data"
    }
   ],
   "source": [
    "plt.scatter(train_x[:,1], train_y, color = 'r') # red training data\n",
    "plt.scatter(test_x[:,1], test_y, color='g')     # green test data\n",
    "plt.plot(train_x, train_x * w)\n",
    "plt.show()"
   ]
  },
  {
   "cell_type": "code",
   "execution_count": 49,
   "metadata": {},
   "outputs": [],
   "source": [
    "# The graphs shows the prediction is not so good. there is still better options. "
   ]
  }
 ],
 "metadata": {
  "kernelspec": {
   "display_name": "Python 3",
   "language": "python",
   "name": "python3"
  },
  "language_info": {
   "codemirror_mode": {
    "name": "ipython",
    "version": 3
   },
   "file_extension": ".py",
   "mimetype": "text/x-python",
   "name": "python",
   "nbconvert_exporter": "python",
   "pygments_lexer": "ipython3",
   "version": "3.7.0"
  }
 },
 "nbformat": 4,
 "nbformat_minor": 2
}
